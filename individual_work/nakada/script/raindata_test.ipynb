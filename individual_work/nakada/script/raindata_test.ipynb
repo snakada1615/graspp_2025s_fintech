{
 "cells": [
  {
   "cell_type": "code",
   "execution_count": null,
   "id": "b4b4b982",
   "metadata": {},
   "outputs": [],
   "source": [
    "import pandas as pd\n",
    "rain = pd.read_csv(\"Sub_Division_IMD_2017.csv\")\n"
   ]
  }
 ],
 "metadata": {
  "language_info": {
   "name": "python"
  }
 },
 "nbformat": 4,
 "nbformat_minor": 5
}
