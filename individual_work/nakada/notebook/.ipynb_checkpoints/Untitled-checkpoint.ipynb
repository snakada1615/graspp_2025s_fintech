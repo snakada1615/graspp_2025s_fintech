{
 "cells": [
  {
   "cell_type": "markdown",
   "id": "10461a1f-aa38-48dc-849f-e8bcc7f3bb0f",
   "metadata": {},
   "source": [
    "# how to extract text from pdf and convert it to table"
   ]
  },
  {
   "cell_type": "markdown",
   "id": "8f792c60-5cdf-4edc-ad33-d8597a0f69a2",
   "metadata": {},
   "source": [
    "1. First i tried to get online data for "
   ]
  },
  {
   "cell_type": "code",
   "execution_count": null,
   "id": "50b7ded1-f725-438b-822a-0480270ad19c",
   "metadata": {},
   "outputs": [],
   "source": []
  }
 ],
 "metadata": {
  "kernelspec": {
   "display_name": "Python 3 (ipykernel)",
   "language": "python",
   "name": "python3"
  },
  "language_info": {
   "codemirror_mode": {
    "name": "ipython",
    "version": 3
   },
   "file_extension": ".py",
   "mimetype": "text/x-python",
   "name": "python",
   "nbconvert_exporter": "python",
   "pygments_lexer": "ipython3",
   "version": "3.12.8"
  }
 },
 "nbformat": 4,
 "nbformat_minor": 5
}
