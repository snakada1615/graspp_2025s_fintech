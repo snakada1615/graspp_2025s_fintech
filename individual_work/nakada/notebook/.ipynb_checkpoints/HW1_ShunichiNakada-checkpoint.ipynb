{
 "cells": [
  {
   "cell_type": "markdown",
   "id": "3ae14035",
   "metadata": {},
   "source": [
    "# homework 1: Shunichi Nakada"
   ]
  },
  {
   "cell_type": "markdown",
   "id": "ffc3d0d6",
   "metadata": {},
   "source": [
    "## objective, hypothesys and dataset\n",
    "\n",
    "1. objective To understand impact of government policy to promote DX technologies to improve quality of life in selected country \n",
    "1. hypothesys: government policy to promote DX technologies improve quality of life\n",
    "1. candidate treatment indicator (independent variables) \n",
    "    - government policy to enhance access and utilization of DX technology by rural vulnerable population (e.g. introduction status of national ID system) \n",
    "    - indicators to represent status of mobile technology accessibility (e.g. digital network coverage, how many mobile devise each household have, experience of e-commerce)  \n",
    "1. candidate outcome indicator (dependent variables) \n",
    "    - improved access to credit (e.g. through online banking and efficient and effective credit judgement) \n",
    "    - improved financial management (e.g. through improved financial record using online tool) \n",
    "    - improved productivity through enhanced financial access (e.g. through better access to farm inputs) \n",
    "    - improved resilience in agriculture production (through early-warning system with technical guidance using digital tool and information network) \n",
    "1. candidate target country India (introduced support policy such as natinal ID system, public e-commerce platform since 2010)  \n",
    "1. possible analysis method \n",
    "    1. strategy-1: between-country assessment  - collect country level statistics through online database such as worldbank, UN-organization, etc. - create panel data of number of countries as data available - apply statistic measure to compare treatment country (India, plus countries with similar policy applied, if any) and control counties (rest of the countries)  \n",
    "    1. strategy-2: within-country assessment - collect sub-national dataset from national statistic authority - create panel data of states in target country (India) - apply statistic measure to compare different regions using available statistics - comparison could be time-series analysis(before and after support policy introduced), or state-by-state comparison assuming there are variability in timing and progress of policy enforcement\n",
    "1. Current status\n",
    "    - Our team first tried to collect required Indian statistics(sub-national). However, it is not easy to collect state level statistics, and many datasets provided by pdf, not online data. This is still ongoing work.\n",
    "    - So, for this assignment, i decided to use international dataset to compare India and other Asian countries."
   ]
  },
  {
   "cell_type": "markdown",
   "id": "c49b227d",
   "metadata": {},
   "source": [
    "## Function to download dataset"
   ]
  },
  {
   "cell_type": "code",
   "execution_count": 52,
   "id": "229f3e8a",
   "metadata": {},
   "outputs": [
    {
     "name": "stdout",
     "output_type": "stream",
     "text": [
      "  OBS_VALUE TIME_FORMAT  UNIT_MULT COMMENT_OBS OBS_STATUS OBS_CONF AGG_METHOD  \\\n",
      "0  0.925926         602          0        None          A       PU       MEAN   \n",
      "1   10.9568         602          0        None          A       PU       MEAN   \n",
      "2   4.32099         602          0        None          A       PU       MEAN   \n",
      "3   8.95062         602          0        None          A       PU       MEAN   \n",
      "4    3.7037         602          0        None          A       PU       MEAN   \n",
      "\n",
      "  DECIMALS COMMENT_TS DATA_SOURCE  ...  SEX AGE URBANISATION COMP_BREAKDOWN_1  \\\n",
      "0     None       None        None  ...   _T  _T           _T               _Z   \n",
      "1     None       None        None  ...   _T  _T           _T               _Z   \n",
      "2     None       None        None  ...   _T  _T           _T               _Z   \n",
      "3     None       None        None  ...   _T  _T           _T               _Z   \n",
      "4     None       None        None  ...   _T  _T           _T               _Z   \n",
      "\n",
      "  COMP_BREAKDOWN_2 COMP_BREAKDOWN_3 TIME_PERIOD FREQ UNIT_MEASURE UNIT_TYPE  \n",
      "0               _Z               _Z        2021    A     0_TO_100      None  \n",
      "1               _Z               _Z        2021    A     0_TO_100      None  \n",
      "2               _Z               _Z        2021    A     0_TO_100      None  \n",
      "3               _Z               _Z        2021    A     0_TO_100      None  \n",
      "4               _Z               _Z        2021    A     0_TO_100      None  \n",
      "\n",
      "[5 rows x 24 columns]\n"
     ]
    }
   ],
   "source": [
    "def importWB(database_id, indicator_id, year_from, year_to):\n",
    "    import requests\n",
    "    import pandas as pd\n",
    "\n",
    "    url = (\n",
    "        f\"https://data360api.worldbank.org/data360/data\"\n",
    "        f\"?DATABASE_ID={database_id}&INDICATOR={indicator_id}\"\n",
    "        f\"&timePeriodFrom={year_from}&timePeriodTo={year_to}&skip=0\"\n",
    "    )\n",
    "    headers = {\"accept\": \"application/json\"}\n",
    "\n",
    "    response = requests.get(url, headers=headers)\n",
    "    data = response.json()\n",
    "\n",
    "    # The data is under the \"value\" key\n",
    "    if \"value\" in data and data[\"value\"]:\n",
    "        df = pd.DataFrame(data[\"value\"])\n",
    "        return df\n",
    "    else:\n",
    "        print(\"No data available for the requested indicator and database.\")\n",
    "        return False\n",
    "\n",
    "mydf_ICTPolicy = importWB(\"ITU_ICT\", \"ITU_ICT_G5_DIG_ECON\", \"2000\", \"2025\")\n",
    "mydf_FarmCredit = importWB(\"FAO_IC\", \"FAO_IC_23068\", \"2000\", \"2025\")\n",
    "mydf_Value_AgProduction = importWB(\"FAO_MK\", \"FAO_MK_22016\", \"2000\", \"2025\")\n",
    "mydf_Value_AgProcessing = importWB(\"FAO_MK\", \"FAO_MK_22077\", \"2000\", \"2025\")\n",
    "mydf_Fertilizer = importWB(\"WB_WDI\", \"WB_WDI_AG_CON_FERT_ZS\", \"2000\", \"2025\")\n",
    "print(mydf_ICTPolicy.head())\n",
    "\n"
   ]
  },
  {
   "cell_type": "markdown",
   "id": "d13bfb07",
   "metadata": {},
   "source": [
    "## Function to filter dataset (focus on Asian countries including India)"
   ]
  },
  {
   "cell_type": "code",
   "execution_count": 65,
   "id": "9e1fc411",
   "metadata": {},
   "outputs": [
    {
     "name": "stdout",
     "output_type": "stream",
     "text": [
      "   areaCode  year ICTPolicy\n",
      "0       AFG  2021  0.925926\n",
      "7       ARM  2021   7.40741\n",
      "10      AZE  2021   8.02469\n",
      "12      BHR  2021   9.25926\n",
      "13      BGD  2021   6.79012\n",
      "19      BTN  2021   8.17901\n",
      "24      BRN  2021    9.5679\n",
      "29      KHM  2021   7.25309\n",
      "35      CHN  2021   14.8148\n",
      "63      GEO  2021   7.40741\n",
      "  areaCode  year FarmCredit\n",
      "0      AFG  2008   1.259477\n",
      "1      AFG  2010  11.894427\n",
      "2      AFG  2011  11.575633\n",
      "3      AFG  2012  14.524064\n",
      "4      AFG  2013  19.018687\n",
      "5      AFG  2014  17.388845\n",
      "6      AFG  2015  17.675774\n",
      "7      AFG  2016  20.133434\n",
      "8      AFG  2017  26.330719\n",
      "9      AFG  2018  25.250709\n"
     ]
    }
   ],
   "source": [
    "def filterDF(df, countries, colNames, newColNames):\n",
    "    filtered_df = df[df['REF_AREA'].isin(countries)][colNames]\n",
    "    filtered_df.columns = newColNames\n",
    "    return filtered_df\n",
    "\n",
    "asianCountries = ['AFG','ARM','AZE','BHR','BGD','BTN','BRN','KHM',\n",
    "                  'CHN','GEO','IND','IDN','IRN','IRQ','ISR','JPN','JOR','KAZ','PRK',\n",
    "                  'KOR','KWT','KGZ','LAO','LBN','MYS','MDV','MNG','MMR','NPL','OMN',\n",
    "                  'PAK','PSE','PHL','QAT','SAU','SGP','LKA','SYR','TJK','THA','TLS',\n",
    "                  'TUR','TKM','ARE','UZB','VNM','YEM']\n",
    "\n",
    "mydf_ICTPolicy_filtered = filterDF(mydf_ICTPolicy, asianCountries, [\"REF_AREA\", \"TIME_PERIOD\", \"OBS_VALUE\"], [\"areaCode\", \"year\", \"ICTPolicy\"])\n",
    "mydf_FarmCredit_filtered = filterDF(mydf_FarmCredit, asianCountries, [\"REF_AREA\", \"TIME_PERIOD\",\"OBS_VALUE\"], [\"areaCode\", \"year\", \"FarmCredit\"])\n",
    "mydf_Value_AgProduction_filtered = filterDF(mydf_Value_AgProduction, asianCountries, [\"REF_AREA\", \"TIME_PERIOD\",\"OBS_VALUE\"], [\"areaCode\", \"year\", \"ProductionValue\"])\n",
    "mydf_Value_AgProcessing_filtered = filterDF(mydf_Value_AgProcessing, asianCountries, [\"REF_AREA\", \"TIME_PERIOD\",\"OBS_VALUE\"], [\"areaCode\", \"year\", \"ProcessingValue\"])\n",
    "mydf_Fertilizer_filtered = filterDF(mydf_Fertilizer, asianCountries, [\"REF_AREA\", \"TIME_PERIOD\",\"OBS_VALUE\"], [\"areaCode\", \"year\", \"Fertilizer\"])\n",
    "print(mydf_ICTPolicy_filtered.head(10))\n",
    "print(mydf_FarmCredit_filtered.head(10))\n"
   ]
  },
  {
   "cell_type": "markdown",
   "id": "5d5c5c9e",
   "metadata": {},
   "source": [
    "## set index to merge (country and year)"
   ]
  },
  {
   "cell_type": "code",
   "execution_count": 66,
   "id": "07c27c7c",
   "metadata": {},
   "outputs": [],
   "source": [
    "def setIndex(df, key):\n",
    "    return df.set_index(key)\n",
    "\n",
    "mydf_ICTPolicy_indexed = setIndex(mydf_ICTPolicy_filtered, [\"areaCode\", \"year\"])\n",
    "mydf_FarmCredit_indexed = setIndex(mydf_FarmCredit_filtered, [\"areaCode\", \"year\"])\n",
    "mydf_Value_AgProduction_indexed = setIndex(mydf_Value_AgProduction_filtered, [\"areaCode\", \"year\"])\n",
    "mydf_Value_AgProcessing_indexed = setIndex(mydf_Value_AgProcessing_filtered, [\"areaCode\", \"year\"])\n",
    "mydf_Fertilizer_indexed = setIndex(mydf_Fertilizer_filtered, [\"areaCode\", \"year\"])"
   ]
  },
  {
   "cell_type": "code",
   "execution_count": null,
   "id": "d1fe35d9",
   "metadata": {},
   "outputs": [],
   "source": [
    "## merge dataset"
   ]
  },
  {
   "cell_type": "code",
   "execution_count": 78,
   "id": "b9568cfd",
   "metadata": {},
   "outputs": [
    {
     "name": "stdout",
     "output_type": "stream",
     "text": [
      "              FarmCredit ICTPolicy ProductionValue ProcessingValue Fertilizer\n",
      "areaCode year                                                                \n",
      "AFG      2000        NaN       NaN    95339.869625             NaN   0.650787\n",
      "         2001        NaN       NaN    91571.104917             NaN     2.3949\n",
      "         2002        NaN       NaN           87425             NaN    3.19439\n",
      "         2003        NaN       NaN    98889.092629             NaN    3.47855\n",
      "         2004        NaN       NaN    89106.483084             NaN    4.24378\n",
      "         2005        NaN       NaN   112480.707772             NaN        NaN\n",
      "         2006        NaN       NaN   122928.607685             NaN        NaN\n",
      "         2007        NaN       NaN   175086.177885             NaN        NaN\n",
      "         2008   1.259477       NaN     150901.2995             NaN        NaN\n",
      "         2009        NaN       NaN   198018.725825             NaN        NaN\n",
      "         2010  11.894427       NaN   208715.670762             NaN        NaN\n",
      "         2011  11.575633       NaN   243601.036956             NaN        NaN\n",
      "         2012  14.524064       NaN   278175.498101             NaN        NaN\n",
      "         2013  19.018687       NaN   298046.130858             NaN        NaN\n",
      "         2014  17.388845       NaN   297055.155311             NaN        NaN\n",
      "         2015  17.675774       NaN   277151.282154             NaN        NaN\n",
      "         2016  20.133434       NaN   320302.264167             NaN        NaN\n",
      "         2017  26.330719       NaN   329185.780789             NaN        NaN\n",
      "         2018  25.250709       NaN   311797.208953             NaN        NaN\n",
      "         2019  21.509838       NaN    390899.32419             NaN        NaN\n"
     ]
    }
   ],
   "source": [
    "from functools import reduce\n",
    "\n",
    "def merge_dataframes(dfs, keys):\n",
    "    return reduce(\n",
    "        lambda left, right: pd.merge(left, right, on=keys, how='outer'),\n",
    "        dfs\n",
    "    )\n",
    "    \n",
    "mydf_MergedAll = merge_dataframes([mydf_FarmCredit_indexed, mydf_ICTPolicy_indexed, \n",
    "                       mydf_Value_AgProduction_indexed, mydf_Value_AgProcessing_indexed, \n",
    "                       mydf_Fertilizer_indexed], [\"areaCode\", \"year\"])\n",
    "print(mydf_MergedAll.head(20))\n"
   ]
  },
  {
   "cell_type": "markdown",
   "id": "e27929e0",
   "metadata": {},
   "source": [
    "## shoe descriptive statistics"
   ]
  },
  {
   "cell_type": "code",
   "execution_count": 87,
   "id": "2b481039",
   "metadata": {},
   "outputs": [
    {
     "name": "stdout",
     "output_type": "stream",
     "text": [
      "        FarmCredit ICTPolicy ProductionValue ProcessingValue Fertilizer\n",
      "count           11         0              10              20          0\n",
      "unique           8         0               8              20          0\n",
      "top     364.529426       NaN        701633.9   343241.196432        NaN\n",
      "freq             2       NaN               2               1        NaN\n"
     ]
    }
   ],
   "source": [
    "def describeDF(df, year):\n",
    "    dfYear = df.xs(year, level='year')\n",
    "    desc_stats = dfYear.describe(include='all')\n",
    "    print(desc_stats)\n",
    "\n",
    "# print(mydf_MergedAll.head())\n",
    "describeDF(mydf_MergedAll, \"2020\")"
   ]
  },
  {
   "cell_type": "markdown",
   "id": "fc461f41",
   "metadata": {},
   "source": [
    "## export dataset"
   ]
  },
  {
   "cell_type": "code",
   "execution_count": 79,
   "id": "b845ff5d",
   "metadata": {},
   "outputs": [
    {
     "data": {
      "text/plain": [
       "True"
      ]
     },
     "execution_count": 79,
     "metadata": {},
     "output_type": "execute_result"
    }
   ],
   "source": [
    "import os\n",
    "\n",
    "def exportCSV(df, fileName):\n",
    "    output = '../data_processed/' + fileName + '.csv'\n",
    "    df.to_csv(output)\n",
    "    return True\n",
    "\n",
    "exportCSV(mydf_ICTPolicy_indexed, 'ICTPolicy')\n",
    "exportCSV(mydf_FarmCredit_indexed, 'FarmCredit')\n",
    "exportCSV(mydf_Value_AgProduction_indexed, 'AgProduction')\n",
    "exportCSV(mydf_Value_AgProcessing_indexed, 'AgProcessing')\n",
    "exportCSV(mydf_Fertilizer_indexed, 'Fertilizer')\n",
    "exportCSV(mydf_MergedAll, 'MergedAll')\n",
    "\n",
    "\n"
   ]
  }
 ],
 "metadata": {
  "kernelspec": {
   "display_name": "Python 3",
   "language": "python",
   "name": "python3"
  },
  "language_info": {
   "codemirror_mode": {
    "name": "ipython",
    "version": 3
   },
   "file_extension": ".py",
   "mimetype": "text/x-python",
   "name": "python",
   "nbconvert_exporter": "python",
   "pygments_lexer": "ipython3",
   "version": "3.12.8"
  }
 },
 "nbformat": 4,
 "nbformat_minor": 5
}
